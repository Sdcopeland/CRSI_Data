{
 "cells": [
  {
   "cell_type": "code",
   "execution_count": 52,
   "id": "43b42ae5-9861-454a-b14d-1d3a055d2365",
   "metadata": {
    "tags": []
   },
   "outputs": [],
   "source": [
    "import pandas as pd\n",
    "\n",
    "df = pd.read_csv('tabula-extracted-data-CRSI-2020.csv', skip_blank_lines=True, na_filter=True)"
   ]
  },
  {
   "cell_type": "code",
   "execution_count": 53,
   "id": "54430417-b3f6-49fc-ac34-641f30c7e870",
   "metadata": {
    "tags": []
   },
   "outputs": [
    {
     "data": {
      "text/html": [
       "<div>\n",
       "<style scoped>\n",
       "    .dataframe tbody tr th:only-of-type {\n",
       "        vertical-align: middle;\n",
       "    }\n",
       "\n",
       "    .dataframe tbody tr th {\n",
       "        vertical-align: top;\n",
       "    }\n",
       "\n",
       "    .dataframe thead th {\n",
       "        text-align: right;\n",
       "    }\n",
       "</style>\n",
       "<table border=\"1\" class=\"dataframe\">\n",
       "  <thead>\n",
       "    <tr style=\"text-align: right;\">\n",
       "      <th></th>\n",
       "      <th>Area</th>\n",
       "      <th>CRSI</th>\n",
       "      <th>Governance</th>\n",
       "      <th>Risk</th>\n",
       "      <th>Built Environment</th>\n",
       "      <th>Society</th>\n",
       "      <th>Natural Environment</th>\n",
       "    </tr>\n",
       "  </thead>\n",
       "  <tbody>\n",
       "    <tr>\n",
       "      <th>0</th>\n",
       "      <td>National Average</td>\n",
       "      <td>4.321</td>\n",
       "      <td>0.597</td>\n",
       "      <td>0.229</td>\n",
       "      <td>0.393</td>\n",
       "      <td>0.516</td>\n",
       "      <td>0.413</td>\n",
       "    </tr>\n",
       "    <tr>\n",
       "      <th>1</th>\n",
       "      <td>NaN</td>\n",
       "      <td>NaN</td>\n",
       "      <td>NaN</td>\n",
       "      <td>NaN</td>\n",
       "      <td>NaN</td>\n",
       "      <td>NaN</td>\n",
       "      <td>NaN</td>\n",
       "    </tr>\n",
       "    <tr>\n",
       "      <th>2</th>\n",
       "      <td>Region 1</td>\n",
       "      <td>7.53</td>\n",
       "      <td>0.66</td>\n",
       "      <td>0.24</td>\n",
       "      <td>0.492</td>\n",
       "      <td>0.599</td>\n",
       "      <td>0.445</td>\n",
       "    </tr>\n",
       "    <tr>\n",
       "      <th>3</th>\n",
       "      <td>NaN</td>\n",
       "      <td>NaN</td>\n",
       "      <td>NaN</td>\n",
       "      <td>NaN</td>\n",
       "      <td>NaN</td>\n",
       "      <td>NaN</td>\n",
       "      <td>NaN</td>\n",
       "    </tr>\n",
       "    <tr>\n",
       "      <th>4</th>\n",
       "      <td>Connecticut</td>\n",
       "      <td>2.661</td>\n",
       "      <td>0.654</td>\n",
       "      <td>0.395</td>\n",
       "      <td>0.52</td>\n",
       "      <td>0.547</td>\n",
       "      <td>0.398</td>\n",
       "    </tr>\n",
       "  </tbody>\n",
       "</table>\n",
       "</div>"
      ],
      "text/plain": [
       "               Area   CRSI Governance   Risk Built Environment Society  \\\n",
       "0  National Average  4.321      0.597  0.229             0.393   0.516   \n",
       "1               NaN    NaN        NaN    NaN               NaN     NaN   \n",
       "2          Region 1   7.53       0.66   0.24             0.492   0.599   \n",
       "3               NaN    NaN        NaN    NaN               NaN     NaN   \n",
       "4       Connecticut  2.661      0.654  0.395              0.52   0.547   \n",
       "\n",
       "  Natural Environment  \n",
       "0               0.413  \n",
       "1                 NaN  \n",
       "2               0.445  \n",
       "3                 NaN  \n",
       "4               0.398  "
      ]
     },
     "execution_count": 53,
     "metadata": {},
     "output_type": "execute_result"
    }
   ],
   "source": [
    "df.head()"
   ]
  },
  {
   "cell_type": "code",
   "execution_count": 54,
   "id": "f85bc1c3-d3e7-48cd-9ff5-ffddb2acf638",
   "metadata": {
    "tags": []
   },
   "outputs": [],
   "source": [
    "df_new = df.dropna(thresh=7)"
   ]
  },
  {
   "cell_type": "code",
   "execution_count": 55,
   "id": "10f26ed5-e0dc-4eae-b597-8c1cdc0af191",
   "metadata": {
    "tags": []
   },
   "outputs": [
    {
     "data": {
      "text/html": [
       "<div>\n",
       "<style scoped>\n",
       "    .dataframe tbody tr th:only-of-type {\n",
       "        vertical-align: middle;\n",
       "    }\n",
       "\n",
       "    .dataframe tbody tr th {\n",
       "        vertical-align: top;\n",
       "    }\n",
       "\n",
       "    .dataframe thead th {\n",
       "        text-align: right;\n",
       "    }\n",
       "</style>\n",
       "<table border=\"1\" class=\"dataframe\">\n",
       "  <thead>\n",
       "    <tr style=\"text-align: right;\">\n",
       "      <th></th>\n",
       "      <th>Area</th>\n",
       "      <th>CRSI</th>\n",
       "      <th>Governance</th>\n",
       "      <th>Risk</th>\n",
       "      <th>Built Environment</th>\n",
       "      <th>Society</th>\n",
       "      <th>Natural Environment</th>\n",
       "    </tr>\n",
       "  </thead>\n",
       "  <tbody>\n",
       "    <tr>\n",
       "      <th>0</th>\n",
       "      <td>National Average</td>\n",
       "      <td>4.321</td>\n",
       "      <td>0.597</td>\n",
       "      <td>0.229</td>\n",
       "      <td>0.393</td>\n",
       "      <td>0.516</td>\n",
       "      <td>0.413</td>\n",
       "    </tr>\n",
       "    <tr>\n",
       "      <th>2</th>\n",
       "      <td>Region 1</td>\n",
       "      <td>7.53</td>\n",
       "      <td>0.66</td>\n",
       "      <td>0.24</td>\n",
       "      <td>0.492</td>\n",
       "      <td>0.599</td>\n",
       "      <td>0.445</td>\n",
       "    </tr>\n",
       "    <tr>\n",
       "      <th>4</th>\n",
       "      <td>Connecticut</td>\n",
       "      <td>2.661</td>\n",
       "      <td>0.654</td>\n",
       "      <td>0.395</td>\n",
       "      <td>0.52</td>\n",
       "      <td>0.547</td>\n",
       "      <td>0.398</td>\n",
       "    </tr>\n",
       "    <tr>\n",
       "      <th>6</th>\n",
       "      <td>Fairfield</td>\n",
       "      <td>1.981</td>\n",
       "      <td>0.621</td>\n",
       "      <td>0.508</td>\n",
       "      <td>0.675</td>\n",
       "      <td>0.494</td>\n",
       "      <td>0.346</td>\n",
       "    </tr>\n",
       "    <tr>\n",
       "      <th>8</th>\n",
       "      <td>Hartford</td>\n",
       "      <td>1.568</td>\n",
       "      <td>0.671</td>\n",
       "      <td>0.65</td>\n",
       "      <td>0.646</td>\n",
       "      <td>0.525</td>\n",
       "      <td>0.311</td>\n",
       "    </tr>\n",
       "  </tbody>\n",
       "</table>\n",
       "</div>"
      ],
      "text/plain": [
       "               Area   CRSI Governance   Risk Built Environment Society  \\\n",
       "0  National Average  4.321      0.597  0.229             0.393   0.516   \n",
       "2          Region 1   7.53       0.66   0.24             0.492   0.599   \n",
       "4       Connecticut  2.661      0.654  0.395              0.52   0.547   \n",
       "6         Fairfield  1.981      0.621  0.508             0.675   0.494   \n",
       "8          Hartford  1.568      0.671   0.65             0.646   0.525   \n",
       "\n",
       "  Natural Environment  \n",
       "0               0.413  \n",
       "2               0.445  \n",
       "4               0.398  \n",
       "6               0.346  \n",
       "8               0.311  "
      ]
     },
     "execution_count": 55,
     "metadata": {},
     "output_type": "execute_result"
    }
   ],
   "source": [
    "df_new.head()"
   ]
  },
  {
   "cell_type": "code",
   "execution_count": 56,
   "id": "d1ffc3ea-75d1-4f66-932e-a7d8c40e7f32",
   "metadata": {
    "tags": []
   },
   "outputs": [],
   "source": [
    "df_new.to_csv('cleaned.csv')"
   ]
  },
  {
   "cell_type": "code",
   "execution_count": null,
   "id": "4ca9c537-b140-40c2-b4b8-78821d7e58c2",
   "metadata": {},
   "outputs": [],
   "source": []
  }
 ],
 "metadata": {
  "kernelspec": {
   "display_name": "Python 3 (ipykernel)",
   "language": "python",
   "name": "python3"
  },
  "language_info": {
   "codemirror_mode": {
    "name": "ipython",
    "version": 3
   },
   "file_extension": ".py",
   "mimetype": "text/x-python",
   "name": "python",
   "nbconvert_exporter": "python",
   "pygments_lexer": "ipython3",
   "version": "3.11.1"
  }
 },
 "nbformat": 4,
 "nbformat_minor": 5
}
